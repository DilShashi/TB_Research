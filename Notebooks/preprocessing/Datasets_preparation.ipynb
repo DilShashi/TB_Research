{
 "cells": [
  {
   "cell_type": "markdown",
   "metadata": {
    "id": "32cS2_Vmtz1d"
   },
   "source": [
    "## Import necessary libraries"
   ]
  },
  {
   "cell_type": "code",
   "execution_count": 5,
   "metadata": {
    "id": "jGsMkThtVH8x"
   },
   "outputs": [],
   "source": [
    "import pandas as pd"
   ]
  },
  {
   "cell_type": "code",
   "execution_count": 6,
   "metadata": {
    "id": "Hy--2ymhVn_a"
   },
   "outputs": [],
   "source": [
    "# Dataset 1: processed_dataset1\n",
    "df1 = pd.read_csv(r'C:\\Users\\dilan\\Desktop\\TB research\\TB_Research\\Datasets\\processed\\processed_dataset1.csv')\n",
    "# Dataset 2: processed_dataset2\n",
    "df2 = pd.read_csv(r'C:\\Users\\dilan\\Desktop\\TB research\\TB_Research\\Datasets\\processed\\processed_dataset2.csv')\n",
    "# Dataset 3: processed_dataset3\n",
    "df3 = pd.read_csv(r'C:\\Users\\dilan\\Desktop\\TB research\\TB_Research\\Datasets\\processed\\processed_dataset3.csv')\n",
    "# Dataset 4: processed_dataset4\n",
    "df4 = pd.read_csv(r'C:\\Users\\dilan\\Desktop\\TB research\\TB_Research\\Datasets\\processed\\processed_dataset4.csv')\n",
    "# Dataset 5: processed_dataset5\n",
    "df5 = pd.read_csv(r'C:\\Users\\dilan\\Desktop\\TB research\\TB_Research\\Datasets\\processed\\processed_dataset5.csv')"
   ]
  },
  {
   "cell_type": "markdown",
   "metadata": {
    "id": "RE34zX1auJGt"
   },
   "source": [
    "## Identify and Keep Common Genes (Features) Across All Datasets"
   ]
  },
  {
   "cell_type": "code",
   "execution_count": 11,
   "metadata": {
    "id": "AGx2QIHlpF-y"
   },
   "outputs": [],
   "source": [
    "# Identify and Keep Common Genes (Features) Across All Datasets (Excluding the 'TB_Status' column)\n",
    "common_genes = list(set(df1.columns).intersection(df2.columns).intersection(df3.columns).intersection(df4.columns).intersection(df5.columns) - {'TB_Status'})\n",
    "\n",
    "# Convert the list to a DataFrame and save as CSV\n",
    "common_genes_df = pd.DataFrame(common_genes, columns=[\"Gene\"])\n",
    "common_genes_df.to_csv(r\"..\\..\\Saved_files\\common_features.csv\", index=False)\n"
   ]
  },
  {
   "cell_type": "code",
   "execution_count": 13,
   "metadata": {},
   "outputs": [],
   "source": [
    "from sklearn.preprocessing import StandardScaler"
   ]
  },
  {
   "cell_type": "code",
   "execution_count": 14,
   "metadata": {
    "id": "nNhhwJhzzQaS"
   },
   "outputs": [],
   "source": [
    "# Keep Only Common Genes (Excluding 'TB_Status') and Standardize Features\n",
    "scaler = StandardScaler()\n",
    "\n",
    "def process_and_scale(df, common_genes, scaler):\n",
    "    df_common = df[common_genes]\n",
    "    df_scaled = pd.DataFrame(scaler.fit_transform(df_common), columns=df_common.columns)\n",
    "    return pd.concat([df_scaled, df[['TB_Status']]], axis=1)\n",
    "\n",
    "df1 = process_and_scale(df1, common_genes, scaler)\n",
    "df2 = process_and_scale(df2, common_genes, scaler)\n",
    "df3 = process_and_scale(df3, common_genes, scaler)\n",
    "df4 = process_and_scale(df4, common_genes, scaler)\n",
    "df5 = process_and_scale(df5, common_genes, scaler)"
   ]
  },
  {
   "cell_type": "markdown",
   "metadata": {
    "id": "h9g94EZfuivN"
   },
   "source": [
    "## Merge all three datasets"
   ]
  },
  {
   "cell_type": "code",
   "execution_count": 15,
   "metadata": {
    "id": "1kAKoWflzoLV"
   },
   "outputs": [],
   "source": [
    "# Merge all three datasets\n",
    "merged_df = pd.concat([df1, df2, df3, df4, df5], ignore_index=True)"
   ]
  },
  {
   "cell_type": "code",
   "execution_count": 16,
   "metadata": {
    "colab": {
     "base_uri": "https://localhost:8080/",
     "height": 360
    },
    "id": "3WbqM6xOzs0N",
    "outputId": "ea0f1988-84d5-4682-e9ee-3ee67cde61ea"
   },
   "outputs": [
    {
     "data": {
      "text/html": [
       "<div>\n",
       "<style scoped>\n",
       "    .dataframe tbody tr th:only-of-type {\n",
       "        vertical-align: middle;\n",
       "    }\n",
       "\n",
       "    .dataframe tbody tr th {\n",
       "        vertical-align: top;\n",
       "    }\n",
       "\n",
       "    .dataframe thead th {\n",
       "        text-align: right;\n",
       "    }\n",
       "</style>\n",
       "<table border=\"1\" class=\"dataframe\">\n",
       "  <thead>\n",
       "    <tr style=\"text-align: right;\">\n",
       "      <th></th>\n",
       "      <th>ILMN_1781097</th>\n",
       "      <th>ILMN_2200562</th>\n",
       "      <th>ILMN_1702372</th>\n",
       "      <th>ILMN_2187071</th>\n",
       "      <th>ILMN_1693822</th>\n",
       "      <th>ILMN_1652711</th>\n",
       "      <th>ILMN_1789504</th>\n",
       "      <th>ILMN_2414786</th>\n",
       "      <th>ILMN_1779713</th>\n",
       "      <th>ILMN_1690610</th>\n",
       "      <th>...</th>\n",
       "      <th>ILMN_1791637</th>\n",
       "      <th>ILMN_2124064</th>\n",
       "      <th>ILMN_1794817</th>\n",
       "      <th>ILMN_1657111</th>\n",
       "      <th>ILMN_2341382</th>\n",
       "      <th>ILMN_1798971</th>\n",
       "      <th>ILMN_2412807</th>\n",
       "      <th>ILMN_1770035</th>\n",
       "      <th>ILMN_1664738</th>\n",
       "      <th>TB_Status</th>\n",
       "    </tr>\n",
       "  </thead>\n",
       "  <tbody>\n",
       "    <tr>\n",
       "      <th>256</th>\n",
       "      <td>-0.846694</td>\n",
       "      <td>0.992679</td>\n",
       "      <td>-0.983422</td>\n",
       "      <td>-1.011166</td>\n",
       "      <td>0.048062</td>\n",
       "      <td>-0.356742</td>\n",
       "      <td>-0.594919</td>\n",
       "      <td>0.788066</td>\n",
       "      <td>-0.453728</td>\n",
       "      <td>-0.065424</td>\n",
       "      <td>...</td>\n",
       "      <td>-0.638718</td>\n",
       "      <td>0.014520</td>\n",
       "      <td>-0.107971</td>\n",
       "      <td>-0.199277</td>\n",
       "      <td>-0.390963</td>\n",
       "      <td>-0.396736</td>\n",
       "      <td>-0.330487</td>\n",
       "      <td>-0.308032</td>\n",
       "      <td>0.501556</td>\n",
       "      <td>Other Disease</td>\n",
       "    </tr>\n",
       "    <tr>\n",
       "      <th>414</th>\n",
       "      <td>-0.617245</td>\n",
       "      <td>-0.766955</td>\n",
       "      <td>-0.776345</td>\n",
       "      <td>-0.600089</td>\n",
       "      <td>0.371477</td>\n",
       "      <td>-1.691978</td>\n",
       "      <td>-0.129191</td>\n",
       "      <td>0.429422</td>\n",
       "      <td>-0.970298</td>\n",
       "      <td>0.011198</td>\n",
       "      <td>...</td>\n",
       "      <td>-2.339983</td>\n",
       "      <td>0.269044</td>\n",
       "      <td>0.194512</td>\n",
       "      <td>-0.607052</td>\n",
       "      <td>2.584929</td>\n",
       "      <td>0.487925</td>\n",
       "      <td>0.025450</td>\n",
       "      <td>-0.698093</td>\n",
       "      <td>0.858469</td>\n",
       "      <td>Other Disease</td>\n",
       "    </tr>\n",
       "    <tr>\n",
       "      <th>1185</th>\n",
       "      <td>0.710255</td>\n",
       "      <td>1.385896</td>\n",
       "      <td>0.113406</td>\n",
       "      <td>-0.461858</td>\n",
       "      <td>-0.357209</td>\n",
       "      <td>-0.274628</td>\n",
       "      <td>0.753589</td>\n",
       "      <td>0.782293</td>\n",
       "      <td>-0.238019</td>\n",
       "      <td>-0.978007</td>\n",
       "      <td>...</td>\n",
       "      <td>0.368100</td>\n",
       "      <td>-0.437253</td>\n",
       "      <td>0.650056</td>\n",
       "      <td>-0.074642</td>\n",
       "      <td>0.239333</td>\n",
       "      <td>-1.951561</td>\n",
       "      <td>-0.475302</td>\n",
       "      <td>-0.945502</td>\n",
       "      <td>0.650239</td>\n",
       "      <td>Other Disease</td>\n",
       "    </tr>\n",
       "    <tr>\n",
       "      <th>786</th>\n",
       "      <td>1.205593</td>\n",
       "      <td>0.649049</td>\n",
       "      <td>0.350849</td>\n",
       "      <td>-0.551300</td>\n",
       "      <td>2.296598</td>\n",
       "      <td>-0.052342</td>\n",
       "      <td>-0.720354</td>\n",
       "      <td>0.639958</td>\n",
       "      <td>0.757024</td>\n",
       "      <td>0.284601</td>\n",
       "      <td>...</td>\n",
       "      <td>0.138857</td>\n",
       "      <td>0.003869</td>\n",
       "      <td>0.805894</td>\n",
       "      <td>0.761736</td>\n",
       "      <td>-0.683889</td>\n",
       "      <td>0.986295</td>\n",
       "      <td>-0.531601</td>\n",
       "      <td>0.553799</td>\n",
       "      <td>-1.275684</td>\n",
       "      <td>Other Disease</td>\n",
       "    </tr>\n",
       "    <tr>\n",
       "      <th>1376</th>\n",
       "      <td>-0.238693</td>\n",
       "      <td>0.971610</td>\n",
       "      <td>-0.361873</td>\n",
       "      <td>0.501465</td>\n",
       "      <td>-1.881361</td>\n",
       "      <td>0.218442</td>\n",
       "      <td>0.874481</td>\n",
       "      <td>-0.810194</td>\n",
       "      <td>0.166620</td>\n",
       "      <td>-0.697632</td>\n",
       "      <td>...</td>\n",
       "      <td>1.012116</td>\n",
       "      <td>-0.395863</td>\n",
       "      <td>-0.776645</td>\n",
       "      <td>0.449641</td>\n",
       "      <td>-1.090968</td>\n",
       "      <td>0.354898</td>\n",
       "      <td>-0.937958</td>\n",
       "      <td>0.272932</td>\n",
       "      <td>-1.123762</td>\n",
       "      <td>Other Disease</td>\n",
       "    </tr>\n",
       "  </tbody>\n",
       "</table>\n",
       "<p>5 rows × 23190 columns</p>\n",
       "</div>"
      ],
      "text/plain": [
       "      ILMN_1781097  ILMN_2200562  ILMN_1702372  ILMN_2187071  ILMN_1693822  \\\n",
       "256      -0.846694      0.992679     -0.983422     -1.011166      0.048062   \n",
       "414      -0.617245     -0.766955     -0.776345     -0.600089      0.371477   \n",
       "1185      0.710255      1.385896      0.113406     -0.461858     -0.357209   \n",
       "786       1.205593      0.649049      0.350849     -0.551300      2.296598   \n",
       "1376     -0.238693      0.971610     -0.361873      0.501465     -1.881361   \n",
       "\n",
       "      ILMN_1652711  ILMN_1789504  ILMN_2414786  ILMN_1779713  ILMN_1690610  \\\n",
       "256      -0.356742     -0.594919      0.788066     -0.453728     -0.065424   \n",
       "414      -1.691978     -0.129191      0.429422     -0.970298      0.011198   \n",
       "1185     -0.274628      0.753589      0.782293     -0.238019     -0.978007   \n",
       "786      -0.052342     -0.720354      0.639958      0.757024      0.284601   \n",
       "1376      0.218442      0.874481     -0.810194      0.166620     -0.697632   \n",
       "\n",
       "      ...  ILMN_1791637  ILMN_2124064  ILMN_1794817  ILMN_1657111  \\\n",
       "256   ...     -0.638718      0.014520     -0.107971     -0.199277   \n",
       "414   ...     -2.339983      0.269044      0.194512     -0.607052   \n",
       "1185  ...      0.368100     -0.437253      0.650056     -0.074642   \n",
       "786   ...      0.138857      0.003869      0.805894      0.761736   \n",
       "1376  ...      1.012116     -0.395863     -0.776645      0.449641   \n",
       "\n",
       "      ILMN_2341382  ILMN_1798971  ILMN_2412807  ILMN_1770035  ILMN_1664738  \\\n",
       "256      -0.390963     -0.396736     -0.330487     -0.308032      0.501556   \n",
       "414       2.584929      0.487925      0.025450     -0.698093      0.858469   \n",
       "1185      0.239333     -1.951561     -0.475302     -0.945502      0.650239   \n",
       "786      -0.683889      0.986295     -0.531601      0.553799     -1.275684   \n",
       "1376     -1.090968      0.354898     -0.937958      0.272932     -1.123762   \n",
       "\n",
       "          TB_Status  \n",
       "256   Other Disease  \n",
       "414   Other Disease  \n",
       "1185  Other Disease  \n",
       "786   Other Disease  \n",
       "1376  Other Disease  \n",
       "\n",
       "[5 rows x 23190 columns]"
      ]
     },
     "execution_count": 16,
     "metadata": {},
     "output_type": "execute_result"
    }
   ],
   "source": [
    "merged_df.sample(5)"
   ]
  },
  {
   "cell_type": "markdown",
   "metadata": {
    "id": "IeYjKFKhunMt"
   },
   "source": [
    "## Check for missing values in 'merged_df' dataset"
   ]
  },
  {
   "cell_type": "code",
   "execution_count": 17,
   "metadata": {
    "colab": {
     "base_uri": "https://localhost:8080/"
    },
    "id": "d2EMFHW82cja",
    "outputId": "929e5841-59c0-4cb4-b25b-c0461370e83e"
   },
   "outputs": [
    {
     "name": "stdout",
     "output_type": "stream",
     "text": [
      "Series([], dtype: int64)\n"
     ]
    }
   ],
   "source": [
    "# Check for missing values and print only columns with missing values\n",
    "missing_values = merged_df.isnull().sum()\n",
    "print(missing_values[missing_values > 0])"
   ]
  },
  {
   "cell_type": "markdown",
   "metadata": {
    "id": "40cvuIbquv5E"
   },
   "source": [
    "## Split 'merged_df' dataset in to 3 seratate datasets as 'TB_HC_OD' , 'PTB_EPTB' , 'ATB_LTB'"
   ]
  },
  {
   "cell_type": "markdown",
   "metadata": {
    "id": "eUpuwv6JvVaU"
   },
   "source": [
    "### Dataset 1: 'TB_HC_OD'"
   ]
  },
  {
   "cell_type": "code",
   "execution_count": 18,
   "metadata": {
    "id": "sKtiZoXQT-m8"
   },
   "outputs": [],
   "source": [
    "# Dataset 1: 'TB_HC_OD'\n",
    "# Replace 'Active TB', 'Latent TB', 'Pulmonary TB', and 'Extra Pulmonary TB' with 'TB' in 'TB_Status'\n",
    "TB_HC_OD = merged_df.copy()\n",
    "TB_HC_OD['TB_Status'] = TB_HC_OD['TB_Status'].replace(\n",
    "    ['Active TB', 'Latent TB', 'Pulmonary TB', 'Extra Pulmonary TB'], 'TB'\n",
    ")"
   ]
  },
  {
   "cell_type": "code",
   "execution_count": 19,
   "metadata": {
    "colab": {
     "base_uri": "https://localhost:8080/",
     "height": 342
    },
    "id": "3ixtX5Gf-e0t",
    "outputId": "79038906-34bd-4a96-a053-f040017fb77f"
   },
   "outputs": [
    {
     "name": "stdout",
     "output_type": "stream",
     "text": [
      "TB_HC_OD Dataset shape: (1570, 23190)\n",
      "TB_HC_OD Dataset preview:\n",
      "\n"
     ]
    },
    {
     "data": {
      "text/html": [
       "<div>\n",
       "<style scoped>\n",
       "    .dataframe tbody tr th:only-of-type {\n",
       "        vertical-align: middle;\n",
       "    }\n",
       "\n",
       "    .dataframe tbody tr th {\n",
       "        vertical-align: top;\n",
       "    }\n",
       "\n",
       "    .dataframe thead th {\n",
       "        text-align: right;\n",
       "    }\n",
       "</style>\n",
       "<table border=\"1\" class=\"dataframe\">\n",
       "  <thead>\n",
       "    <tr style=\"text-align: right;\">\n",
       "      <th></th>\n",
       "      <th>ILMN_1781097</th>\n",
       "      <th>ILMN_2200562</th>\n",
       "      <th>ILMN_1702372</th>\n",
       "      <th>ILMN_2187071</th>\n",
       "      <th>ILMN_1693822</th>\n",
       "      <th>ILMN_1652711</th>\n",
       "      <th>ILMN_1789504</th>\n",
       "      <th>ILMN_2414786</th>\n",
       "      <th>ILMN_1779713</th>\n",
       "      <th>ILMN_1690610</th>\n",
       "      <th>...</th>\n",
       "      <th>ILMN_1791637</th>\n",
       "      <th>ILMN_2124064</th>\n",
       "      <th>ILMN_1794817</th>\n",
       "      <th>ILMN_1657111</th>\n",
       "      <th>ILMN_2341382</th>\n",
       "      <th>ILMN_1798971</th>\n",
       "      <th>ILMN_2412807</th>\n",
       "      <th>ILMN_1770035</th>\n",
       "      <th>ILMN_1664738</th>\n",
       "      <th>TB_Status</th>\n",
       "    </tr>\n",
       "  </thead>\n",
       "  <tbody>\n",
       "    <tr>\n",
       "      <th>1381</th>\n",
       "      <td>-2.175320</td>\n",
       "      <td>0.490071</td>\n",
       "      <td>-0.093563</td>\n",
       "      <td>0.841017</td>\n",
       "      <td>0.158170</td>\n",
       "      <td>-0.758441</td>\n",
       "      <td>-0.252933</td>\n",
       "      <td>0.198675</td>\n",
       "      <td>0.438843</td>\n",
       "      <td>1.162748</td>\n",
       "      <td>...</td>\n",
       "      <td>-0.842884</td>\n",
       "      <td>-0.190678</td>\n",
       "      <td>0.578459</td>\n",
       "      <td>-0.126942</td>\n",
       "      <td>-0.089593</td>\n",
       "      <td>-0.153728</td>\n",
       "      <td>0.772259</td>\n",
       "      <td>-0.057271</td>\n",
       "      <td>-0.760024</td>\n",
       "      <td>Other Disease</td>\n",
       "    </tr>\n",
       "    <tr>\n",
       "      <th>1146</th>\n",
       "      <td>0.250855</td>\n",
       "      <td>-0.419438</td>\n",
       "      <td>-0.447271</td>\n",
       "      <td>-0.021972</td>\n",
       "      <td>-0.784164</td>\n",
       "      <td>1.851200</td>\n",
       "      <td>0.551392</td>\n",
       "      <td>0.213365</td>\n",
       "      <td>-0.640602</td>\n",
       "      <td>0.709202</td>\n",
       "      <td>...</td>\n",
       "      <td>0.099906</td>\n",
       "      <td>-0.212441</td>\n",
       "      <td>-1.236292</td>\n",
       "      <td>-2.321345</td>\n",
       "      <td>-1.679819</td>\n",
       "      <td>0.600305</td>\n",
       "      <td>0.513996</td>\n",
       "      <td>1.667250</td>\n",
       "      <td>-0.381532</td>\n",
       "      <td>Other Disease</td>\n",
       "    </tr>\n",
       "    <tr>\n",
       "      <th>1556</th>\n",
       "      <td>-1.643527</td>\n",
       "      <td>0.622306</td>\n",
       "      <td>-0.462921</td>\n",
       "      <td>-0.425226</td>\n",
       "      <td>-0.128260</td>\n",
       "      <td>0.320680</td>\n",
       "      <td>0.353640</td>\n",
       "      <td>-0.689797</td>\n",
       "      <td>0.201960</td>\n",
       "      <td>0.646708</td>\n",
       "      <td>...</td>\n",
       "      <td>0.311270</td>\n",
       "      <td>-0.841884</td>\n",
       "      <td>1.176863</td>\n",
       "      <td>-0.200945</td>\n",
       "      <td>0.337936</td>\n",
       "      <td>-0.362392</td>\n",
       "      <td>0.686297</td>\n",
       "      <td>-0.756057</td>\n",
       "      <td>-1.599601</td>\n",
       "      <td>TB</td>\n",
       "    </tr>\n",
       "    <tr>\n",
       "      <th>1523</th>\n",
       "      <td>2.258868</td>\n",
       "      <td>-0.091900</td>\n",
       "      <td>-0.093885</td>\n",
       "      <td>-0.249773</td>\n",
       "      <td>0.518279</td>\n",
       "      <td>0.430340</td>\n",
       "      <td>-1.622485</td>\n",
       "      <td>-0.322837</td>\n",
       "      <td>0.227531</td>\n",
       "      <td>-0.174735</td>\n",
       "      <td>...</td>\n",
       "      <td>0.244475</td>\n",
       "      <td>-0.108612</td>\n",
       "      <td>-1.550229</td>\n",
       "      <td>0.556006</td>\n",
       "      <td>1.224665</td>\n",
       "      <td>1.397952</td>\n",
       "      <td>-0.001698</td>\n",
       "      <td>-0.275675</td>\n",
       "      <td>-1.508637</td>\n",
       "      <td>TB</td>\n",
       "    </tr>\n",
       "    <tr>\n",
       "      <th>1029</th>\n",
       "      <td>0.304717</td>\n",
       "      <td>1.635231</td>\n",
       "      <td>1.002849</td>\n",
       "      <td>-0.024196</td>\n",
       "      <td>-2.482098</td>\n",
       "      <td>0.501358</td>\n",
       "      <td>0.679402</td>\n",
       "      <td>0.494812</td>\n",
       "      <td>-1.627080</td>\n",
       "      <td>1.302270</td>\n",
       "      <td>...</td>\n",
       "      <td>1.165564</td>\n",
       "      <td>1.428177</td>\n",
       "      <td>0.050642</td>\n",
       "      <td>0.776676</td>\n",
       "      <td>1.144540</td>\n",
       "      <td>-0.470762</td>\n",
       "      <td>0.850115</td>\n",
       "      <td>0.028510</td>\n",
       "      <td>-0.176224</td>\n",
       "      <td>TB</td>\n",
       "    </tr>\n",
       "  </tbody>\n",
       "</table>\n",
       "<p>5 rows × 23190 columns</p>\n",
       "</div>"
      ],
      "text/plain": [
       "      ILMN_1781097  ILMN_2200562  ILMN_1702372  ILMN_2187071  ILMN_1693822  \\\n",
       "1381     -2.175320      0.490071     -0.093563      0.841017      0.158170   \n",
       "1146      0.250855     -0.419438     -0.447271     -0.021972     -0.784164   \n",
       "1556     -1.643527      0.622306     -0.462921     -0.425226     -0.128260   \n",
       "1523      2.258868     -0.091900     -0.093885     -0.249773      0.518279   \n",
       "1029      0.304717      1.635231      1.002849     -0.024196     -2.482098   \n",
       "\n",
       "      ILMN_1652711  ILMN_1789504  ILMN_2414786  ILMN_1779713  ILMN_1690610  \\\n",
       "1381     -0.758441     -0.252933      0.198675      0.438843      1.162748   \n",
       "1146      1.851200      0.551392      0.213365     -0.640602      0.709202   \n",
       "1556      0.320680      0.353640     -0.689797      0.201960      0.646708   \n",
       "1523      0.430340     -1.622485     -0.322837      0.227531     -0.174735   \n",
       "1029      0.501358      0.679402      0.494812     -1.627080      1.302270   \n",
       "\n",
       "      ...  ILMN_1791637  ILMN_2124064  ILMN_1794817  ILMN_1657111  \\\n",
       "1381  ...     -0.842884     -0.190678      0.578459     -0.126942   \n",
       "1146  ...      0.099906     -0.212441     -1.236292     -2.321345   \n",
       "1556  ...      0.311270     -0.841884      1.176863     -0.200945   \n",
       "1523  ...      0.244475     -0.108612     -1.550229      0.556006   \n",
       "1029  ...      1.165564      1.428177      0.050642      0.776676   \n",
       "\n",
       "      ILMN_2341382  ILMN_1798971  ILMN_2412807  ILMN_1770035  ILMN_1664738  \\\n",
       "1381     -0.089593     -0.153728      0.772259     -0.057271     -0.760024   \n",
       "1146     -1.679819      0.600305      0.513996      1.667250     -0.381532   \n",
       "1556      0.337936     -0.362392      0.686297     -0.756057     -1.599601   \n",
       "1523      1.224665      1.397952     -0.001698     -0.275675     -1.508637   \n",
       "1029      1.144540     -0.470762      0.850115      0.028510     -0.176224   \n",
       "\n",
       "          TB_Status  \n",
       "1381  Other Disease  \n",
       "1146  Other Disease  \n",
       "1556             TB  \n",
       "1523             TB  \n",
       "1029             TB  \n",
       "\n",
       "[5 rows x 23190 columns]"
      ]
     },
     "execution_count": 19,
     "metadata": {},
     "output_type": "execute_result"
    }
   ],
   "source": [
    "# Verifying the shape and preview of each dataset\n",
    "print(\"TB_HC_OD Dataset shape:\", TB_HC_OD.shape)\n",
    "print(\"TB_HC_OD Dataset preview:\\n\")\n",
    "TB_HC_OD.sample(5)"
   ]
  },
  {
   "cell_type": "code",
   "execution_count": 20,
   "metadata": {
    "colab": {
     "base_uri": "https://localhost:8080/"
    },
    "id": "qV4jMV6ie0Lc",
    "outputId": "0b6fe37c-0a66-4196-82c5-f8850a217083"
   },
   "outputs": [
    {
     "name": "stdout",
     "output_type": "stream",
     "text": [
      "TB_Status\n",
      "TB                 719\n",
      "Other Disease      608\n",
      "Healthy Control    243\n",
      "Name: count, dtype: int64\n"
     ]
    }
   ],
   "source": [
    "# Get the number of occurrences for each class in the 'TB_Status' column\n",
    "class_counts = TB_HC_OD['TB_Status'].value_counts()\n",
    "\n",
    "# Display the class counts\n",
    "print(class_counts)\n"
   ]
  },
  {
   "cell_type": "code",
   "execution_count": 21,
   "metadata": {
    "colab": {
     "base_uri": "https://localhost:8080/"
    },
    "id": "xXXfm_vHCQo3",
    "outputId": "fbbb7a04-e7e7-4a53-d9b2-2d4322df9c7d"
   },
   "outputs": [
    {
     "name": "stdout",
     "output_type": "stream",
     "text": [
      "CSV file saved to: ..\\..\\Datasets\\processed\\TB_HC_OD.csv\n"
     ]
    }
   ],
   "source": [
    "# Save the DataFrame as a CSV file\n",
    "output_csv_path = r'..\\..\\Datasets\\processed\\TB_HC_OD.csv'\n",
    "TB_HC_OD.to_csv(output_csv_path, index=False)\n",
    "print(\"CSV file saved to:\", output_csv_path)"
   ]
  },
  {
   "cell_type": "markdown",
   "metadata": {
    "id": "Dw4tPHKsvhFk"
   },
   "source": [
    "### Dataset 2: 'PTB_EPTB'"
   ]
  },
  {
   "cell_type": "code",
   "execution_count": 22,
   "metadata": {
    "id": "m_h5-wAI-e4H"
   },
   "outputs": [],
   "source": [
    "# Dataset 2: 'PTB_EPTB' - only rows where TB_Status is 'Pulmonary TB' or 'Extra Pulmonary TB'\n",
    "PTB_EPTB = merged_df[merged_df['TB_Status'].isin(['Pulmonary TB', 'Extra Pulmonary TB'])]"
   ]
  },
  {
   "cell_type": "code",
   "execution_count": 23,
   "metadata": {
    "colab": {
     "base_uri": "https://localhost:8080/",
     "height": 446
    },
    "id": "YekqRihx-exw",
    "outputId": "0ed99eda-68de-4c5c-c802-227c10824a56"
   },
   "outputs": [
    {
     "name": "stdout",
     "output_type": "stream",
     "text": [
      "\n",
      "PTB_EPTB Dataset shape: (394, 23190)\n",
      "PTB_EPTB Dataset preview:\n",
      "\n"
     ]
    },
    {
     "data": {
      "text/html": [
       "<div>\n",
       "<style scoped>\n",
       "    .dataframe tbody tr th:only-of-type {\n",
       "        vertical-align: middle;\n",
       "    }\n",
       "\n",
       "    .dataframe tbody tr th {\n",
       "        vertical-align: top;\n",
       "    }\n",
       "\n",
       "    .dataframe thead th {\n",
       "        text-align: right;\n",
       "    }\n",
       "</style>\n",
       "<table border=\"1\" class=\"dataframe\">\n",
       "  <thead>\n",
       "    <tr style=\"text-align: right;\">\n",
       "      <th></th>\n",
       "      <th>ILMN_1781097</th>\n",
       "      <th>ILMN_2200562</th>\n",
       "      <th>ILMN_1702372</th>\n",
       "      <th>ILMN_2187071</th>\n",
       "      <th>ILMN_1693822</th>\n",
       "      <th>ILMN_1652711</th>\n",
       "      <th>ILMN_1789504</th>\n",
       "      <th>ILMN_2414786</th>\n",
       "      <th>ILMN_1779713</th>\n",
       "      <th>ILMN_1690610</th>\n",
       "      <th>...</th>\n",
       "      <th>ILMN_1791637</th>\n",
       "      <th>ILMN_2124064</th>\n",
       "      <th>ILMN_1794817</th>\n",
       "      <th>ILMN_1657111</th>\n",
       "      <th>ILMN_2341382</th>\n",
       "      <th>ILMN_1798971</th>\n",
       "      <th>ILMN_2412807</th>\n",
       "      <th>ILMN_1770035</th>\n",
       "      <th>ILMN_1664738</th>\n",
       "      <th>TB_Status</th>\n",
       "    </tr>\n",
       "  </thead>\n",
       "  <tbody>\n",
       "    <tr>\n",
       "      <th>1091</th>\n",
       "      <td>1.579674</td>\n",
       "      <td>0.203430</td>\n",
       "      <td>-0.452095</td>\n",
       "      <td>-0.059381</td>\n",
       "      <td>1.487415</td>\n",
       "      <td>0.367421</td>\n",
       "      <td>-0.154132</td>\n",
       "      <td>-1.632395</td>\n",
       "      <td>-1.115545</td>\n",
       "      <td>-2.160676</td>\n",
       "      <td>...</td>\n",
       "      <td>0.256309</td>\n",
       "      <td>-0.483905</td>\n",
       "      <td>1.573720</td>\n",
       "      <td>0.543827</td>\n",
       "      <td>-0.832976</td>\n",
       "      <td>0.768351</td>\n",
       "      <td>-0.617948</td>\n",
       "      <td>0.691706</td>\n",
       "      <td>0.735575</td>\n",
       "      <td>Extra Pulmonary TB</td>\n",
       "    </tr>\n",
       "    <tr>\n",
       "      <th>628</th>\n",
       "      <td>-0.537831</td>\n",
       "      <td>0.449228</td>\n",
       "      <td>0.737684</td>\n",
       "      <td>2.127456</td>\n",
       "      <td>0.206686</td>\n",
       "      <td>0.700091</td>\n",
       "      <td>0.090169</td>\n",
       "      <td>0.435516</td>\n",
       "      <td>1.159610</td>\n",
       "      <td>-0.170234</td>\n",
       "      <td>...</td>\n",
       "      <td>-0.023754</td>\n",
       "      <td>-1.324688</td>\n",
       "      <td>0.232080</td>\n",
       "      <td>0.556548</td>\n",
       "      <td>1.019485</td>\n",
       "      <td>-0.567432</td>\n",
       "      <td>0.789294</td>\n",
       "      <td>-0.404109</td>\n",
       "      <td>-1.533578</td>\n",
       "      <td>Extra Pulmonary TB</td>\n",
       "    </tr>\n",
       "    <tr>\n",
       "      <th>619</th>\n",
       "      <td>0.539656</td>\n",
       "      <td>0.185312</td>\n",
       "      <td>-0.039255</td>\n",
       "      <td>1.524306</td>\n",
       "      <td>-0.037347</td>\n",
       "      <td>2.668824</td>\n",
       "      <td>0.769345</td>\n",
       "      <td>0.165496</td>\n",
       "      <td>0.280422</td>\n",
       "      <td>0.857881</td>\n",
       "      <td>...</td>\n",
       "      <td>-0.238525</td>\n",
       "      <td>0.162885</td>\n",
       "      <td>-0.013859</td>\n",
       "      <td>0.285545</td>\n",
       "      <td>1.054343</td>\n",
       "      <td>-0.713894</td>\n",
       "      <td>0.378267</td>\n",
       "      <td>-1.459543</td>\n",
       "      <td>0.459672</td>\n",
       "      <td>Extra Pulmonary TB</td>\n",
       "    </tr>\n",
       "    <tr>\n",
       "      <th>904</th>\n",
       "      <td>0.222854</td>\n",
       "      <td>-0.824724</td>\n",
       "      <td>0.856561</td>\n",
       "      <td>0.519462</td>\n",
       "      <td>-2.667613</td>\n",
       "      <td>-0.255403</td>\n",
       "      <td>1.455732</td>\n",
       "      <td>1.956979</td>\n",
       "      <td>1.184985</td>\n",
       "      <td>-0.218051</td>\n",
       "      <td>...</td>\n",
       "      <td>0.659390</td>\n",
       "      <td>-0.141480</td>\n",
       "      <td>1.331566</td>\n",
       "      <td>-0.046509</td>\n",
       "      <td>1.139513</td>\n",
       "      <td>0.048635</td>\n",
       "      <td>-0.514203</td>\n",
       "      <td>-0.183285</td>\n",
       "      <td>-0.946456</td>\n",
       "      <td>Pulmonary TB</td>\n",
       "    </tr>\n",
       "    <tr>\n",
       "      <th>914</th>\n",
       "      <td>0.853316</td>\n",
       "      <td>0.025605</td>\n",
       "      <td>-2.549052</td>\n",
       "      <td>-0.877995</td>\n",
       "      <td>1.653295</td>\n",
       "      <td>-0.590881</td>\n",
       "      <td>0.711443</td>\n",
       "      <td>0.060478</td>\n",
       "      <td>0.700509</td>\n",
       "      <td>0.513303</td>\n",
       "      <td>...</td>\n",
       "      <td>-1.036114</td>\n",
       "      <td>0.457157</td>\n",
       "      <td>-1.354892</td>\n",
       "      <td>0.901053</td>\n",
       "      <td>-0.247493</td>\n",
       "      <td>-2.224113</td>\n",
       "      <td>-0.037298</td>\n",
       "      <td>-0.413982</td>\n",
       "      <td>-0.778686</td>\n",
       "      <td>Pulmonary TB</td>\n",
       "    </tr>\n",
       "  </tbody>\n",
       "</table>\n",
       "<p>5 rows × 23190 columns</p>\n",
       "</div>"
      ],
      "text/plain": [
       "      ILMN_1781097  ILMN_2200562  ILMN_1702372  ILMN_2187071  ILMN_1693822  \\\n",
       "1091      1.579674      0.203430     -0.452095     -0.059381      1.487415   \n",
       "628      -0.537831      0.449228      0.737684      2.127456      0.206686   \n",
       "619       0.539656      0.185312     -0.039255      1.524306     -0.037347   \n",
       "904       0.222854     -0.824724      0.856561      0.519462     -2.667613   \n",
       "914       0.853316      0.025605     -2.549052     -0.877995      1.653295   \n",
       "\n",
       "      ILMN_1652711  ILMN_1789504  ILMN_2414786  ILMN_1779713  ILMN_1690610  \\\n",
       "1091      0.367421     -0.154132     -1.632395     -1.115545     -2.160676   \n",
       "628       0.700091      0.090169      0.435516      1.159610     -0.170234   \n",
       "619       2.668824      0.769345      0.165496      0.280422      0.857881   \n",
       "904      -0.255403      1.455732      1.956979      1.184985     -0.218051   \n",
       "914      -0.590881      0.711443      0.060478      0.700509      0.513303   \n",
       "\n",
       "      ...  ILMN_1791637  ILMN_2124064  ILMN_1794817  ILMN_1657111  \\\n",
       "1091  ...      0.256309     -0.483905      1.573720      0.543827   \n",
       "628   ...     -0.023754     -1.324688      0.232080      0.556548   \n",
       "619   ...     -0.238525      0.162885     -0.013859      0.285545   \n",
       "904   ...      0.659390     -0.141480      1.331566     -0.046509   \n",
       "914   ...     -1.036114      0.457157     -1.354892      0.901053   \n",
       "\n",
       "      ILMN_2341382  ILMN_1798971  ILMN_2412807  ILMN_1770035  ILMN_1664738  \\\n",
       "1091     -0.832976      0.768351     -0.617948      0.691706      0.735575   \n",
       "628       1.019485     -0.567432      0.789294     -0.404109     -1.533578   \n",
       "619       1.054343     -0.713894      0.378267     -1.459543      0.459672   \n",
       "904       1.139513      0.048635     -0.514203     -0.183285     -0.946456   \n",
       "914      -0.247493     -2.224113     -0.037298     -0.413982     -0.778686   \n",
       "\n",
       "               TB_Status  \n",
       "1091  Extra Pulmonary TB  \n",
       "628   Extra Pulmonary TB  \n",
       "619   Extra Pulmonary TB  \n",
       "904         Pulmonary TB  \n",
       "914         Pulmonary TB  \n",
       "\n",
       "[5 rows x 23190 columns]"
      ]
     },
     "execution_count": 23,
     "metadata": {},
     "output_type": "execute_result"
    }
   ],
   "source": [
    "# Verifying the shape and preview of each dataset\n",
    "print(\"\\nPTB_EPTB Dataset shape:\", PTB_EPTB.shape)\n",
    "print(\"PTB_EPTB Dataset preview:\\n\")\n",
    "PTB_EPTB.sample(5)"
   ]
  },
  {
   "cell_type": "code",
   "execution_count": 24,
   "metadata": {
    "colab": {
     "base_uri": "https://localhost:8080/"
    },
    "id": "xSvJoebHe_bG",
    "outputId": "59f73403-c015-4fc0-dabb-99ebf5f32834"
   },
   "outputs": [
    {
     "name": "stdout",
     "output_type": "stream",
     "text": [
      "TB_Status\n",
      "Extra Pulmonary TB    211\n",
      "Pulmonary TB          183\n",
      "Name: count, dtype: int64\n"
     ]
    }
   ],
   "source": [
    "# Get the number of occurrences for each class in the 'TB_Status' column\n",
    "class_counts = PTB_EPTB['TB_Status'].value_counts()\n",
    "\n",
    "# Display the class counts\n",
    "print(class_counts)\n"
   ]
  },
  {
   "cell_type": "code",
   "execution_count": 25,
   "metadata": {
    "colab": {
     "base_uri": "https://localhost:8080/"
    },
    "id": "RjnjTvs7CZLK",
    "outputId": "695edab9-6af2-4689-cc98-41336734255a"
   },
   "outputs": [
    {
     "name": "stdout",
     "output_type": "stream",
     "text": [
      "CSV file saved to: ..\\..\\Datasets\\processed\\PTB_EPTB.csv\n"
     ]
    }
   ],
   "source": [
    "# Save the DataFrame as a CSV file\n",
    "output_csv_path = r'..\\..\\Datasets\\processed\\PTB_EPTB.csv'\n",
    "PTB_EPTB.to_csv(output_csv_path, index=False)\n",
    "print(\"CSV file saved to:\", output_csv_path)"
   ]
  },
  {
   "cell_type": "markdown",
   "metadata": {
    "id": "NEgGnymavm79"
   },
   "source": [
    "### Dataset 3: 'ATB_LTB'"
   ]
  },
  {
   "cell_type": "code",
   "execution_count": 26,
   "metadata": {
    "id": "FhtCcAUmVBCM"
   },
   "outputs": [],
   "source": [
    "# Dataset 3: 'ATB_LTB' - only rows where TB_Status is 'Latent TB' or 'Active TB'\n",
    "ATB_LTB = merged_df[merged_df['TB_Status'].isin(['Latent TB', 'Active TB'])]"
   ]
  },
  {
   "cell_type": "code",
   "execution_count": 27,
   "metadata": {
    "colab": {
     "base_uri": "https://localhost:8080/",
     "height": 325
    },
    "id": "AgCXXWOc-eu6",
    "outputId": "e328af34-8da1-471c-9ab0-8e14a68e5b1f"
   },
   "outputs": [
    {
     "name": "stdout",
     "output_type": "stream",
     "text": [
      "\n",
      "ATB_LTB Dataset shape: (308, 23190)\n",
      "ATB_LTB Dataset preview:\n",
      "\n"
     ]
    },
    {
     "data": {
      "text/html": [
       "<div>\n",
       "<style scoped>\n",
       "    .dataframe tbody tr th:only-of-type {\n",
       "        vertical-align: middle;\n",
       "    }\n",
       "\n",
       "    .dataframe tbody tr th {\n",
       "        vertical-align: top;\n",
       "    }\n",
       "\n",
       "    .dataframe thead th {\n",
       "        text-align: right;\n",
       "    }\n",
       "</style>\n",
       "<table border=\"1\" class=\"dataframe\">\n",
       "  <thead>\n",
       "    <tr style=\"text-align: right;\">\n",
       "      <th></th>\n",
       "      <th>ILMN_1781097</th>\n",
       "      <th>ILMN_2200562</th>\n",
       "      <th>ILMN_1702372</th>\n",
       "      <th>ILMN_2187071</th>\n",
       "      <th>ILMN_1693822</th>\n",
       "      <th>ILMN_1652711</th>\n",
       "      <th>ILMN_1789504</th>\n",
       "      <th>ILMN_2414786</th>\n",
       "      <th>ILMN_1779713</th>\n",
       "      <th>ILMN_1690610</th>\n",
       "      <th>...</th>\n",
       "      <th>ILMN_1791637</th>\n",
       "      <th>ILMN_2124064</th>\n",
       "      <th>ILMN_1794817</th>\n",
       "      <th>ILMN_1657111</th>\n",
       "      <th>ILMN_2341382</th>\n",
       "      <th>ILMN_1798971</th>\n",
       "      <th>ILMN_2412807</th>\n",
       "      <th>ILMN_1770035</th>\n",
       "      <th>ILMN_1664738</th>\n",
       "      <th>TB_Status</th>\n",
       "    </tr>\n",
       "  </thead>\n",
       "  <tbody>\n",
       "    <tr>\n",
       "      <th>1460</th>\n",
       "      <td>-0.394552</td>\n",
       "      <td>-0.557021</td>\n",
       "      <td>-1.294623</td>\n",
       "      <td>0.536503</td>\n",
       "      <td>0.864155</td>\n",
       "      <td>0.514016</td>\n",
       "      <td>0.046976</td>\n",
       "      <td>-0.004552</td>\n",
       "      <td>-1.073165</td>\n",
       "      <td>0.313805</td>\n",
       "      <td>...</td>\n",
       "      <td>-0.906229</td>\n",
       "      <td>-0.873408</td>\n",
       "      <td>-0.164436</td>\n",
       "      <td>0.463879</td>\n",
       "      <td>-0.745263</td>\n",
       "      <td>-0.641401</td>\n",
       "      <td>-0.172770</td>\n",
       "      <td>1.670500</td>\n",
       "      <td>-1.205005</td>\n",
       "      <td>Latent TB</td>\n",
       "    </tr>\n",
       "    <tr>\n",
       "      <th>1505</th>\n",
       "      <td>-1.528911</td>\n",
       "      <td>-1.987227</td>\n",
       "      <td>-0.659173</td>\n",
       "      <td>0.065127</td>\n",
       "      <td>-0.009185</td>\n",
       "      <td>-1.778858</td>\n",
       "      <td>-1.722610</td>\n",
       "      <td>1.055083</td>\n",
       "      <td>1.858310</td>\n",
       "      <td>1.998474</td>\n",
       "      <td>...</td>\n",
       "      <td>-1.588879</td>\n",
       "      <td>-1.368761</td>\n",
       "      <td>-0.918788</td>\n",
       "      <td>-0.117371</td>\n",
       "      <td>-1.181364</td>\n",
       "      <td>-1.387711</td>\n",
       "      <td>-0.199453</td>\n",
       "      <td>-0.233036</td>\n",
       "      <td>-0.790447</td>\n",
       "      <td>Latent TB</td>\n",
       "    </tr>\n",
       "    <tr>\n",
       "      <th>89</th>\n",
       "      <td>2.469976</td>\n",
       "      <td>2.572916</td>\n",
       "      <td>1.721735</td>\n",
       "      <td>0.998979</td>\n",
       "      <td>1.021671</td>\n",
       "      <td>-0.355543</td>\n",
       "      <td>0.482798</td>\n",
       "      <td>-0.102699</td>\n",
       "      <td>-0.009540</td>\n",
       "      <td>0.727451</td>\n",
       "      <td>...</td>\n",
       "      <td>1.496347</td>\n",
       "      <td>0.555242</td>\n",
       "      <td>-0.305503</td>\n",
       "      <td>0.345549</td>\n",
       "      <td>-0.602970</td>\n",
       "      <td>-0.005427</td>\n",
       "      <td>1.164518</td>\n",
       "      <td>2.191250</td>\n",
       "      <td>1.229426</td>\n",
       "      <td>Latent TB</td>\n",
       "    </tr>\n",
       "    <tr>\n",
       "      <th>1465</th>\n",
       "      <td>0.787343</td>\n",
       "      <td>-0.947551</td>\n",
       "      <td>0.134073</td>\n",
       "      <td>2.350521</td>\n",
       "      <td>-0.938292</td>\n",
       "      <td>2.227236</td>\n",
       "      <td>-1.629131</td>\n",
       "      <td>1.702162</td>\n",
       "      <td>0.539020</td>\n",
       "      <td>0.145368</td>\n",
       "      <td>...</td>\n",
       "      <td>2.477117</td>\n",
       "      <td>-0.167315</td>\n",
       "      <td>-1.345556</td>\n",
       "      <td>-0.206253</td>\n",
       "      <td>-1.644883</td>\n",
       "      <td>-0.893006</td>\n",
       "      <td>-0.126020</td>\n",
       "      <td>0.719372</td>\n",
       "      <td>-1.134624</td>\n",
       "      <td>Latent TB</td>\n",
       "    </tr>\n",
       "    <tr>\n",
       "      <th>1438</th>\n",
       "      <td>0.491015</td>\n",
       "      <td>-1.415274</td>\n",
       "      <td>-0.254437</td>\n",
       "      <td>-0.076828</td>\n",
       "      <td>-1.353939</td>\n",
       "      <td>1.140143</td>\n",
       "      <td>-0.178305</td>\n",
       "      <td>-0.542585</td>\n",
       "      <td>-1.007954</td>\n",
       "      <td>1.487266</td>\n",
       "      <td>...</td>\n",
       "      <td>-1.959393</td>\n",
       "      <td>-0.131891</td>\n",
       "      <td>-1.207582</td>\n",
       "      <td>-0.260006</td>\n",
       "      <td>2.172499</td>\n",
       "      <td>1.097082</td>\n",
       "      <td>0.946250</td>\n",
       "      <td>-1.237410</td>\n",
       "      <td>1.363485</td>\n",
       "      <td>Active TB</td>\n",
       "    </tr>\n",
       "  </tbody>\n",
       "</table>\n",
       "<p>5 rows × 23190 columns</p>\n",
       "</div>"
      ],
      "text/plain": [
       "      ILMN_1781097  ILMN_2200562  ILMN_1702372  ILMN_2187071  ILMN_1693822  \\\n",
       "1460     -0.394552     -0.557021     -1.294623      0.536503      0.864155   \n",
       "1505     -1.528911     -1.987227     -0.659173      0.065127     -0.009185   \n",
       "89        2.469976      2.572916      1.721735      0.998979      1.021671   \n",
       "1465      0.787343     -0.947551      0.134073      2.350521     -0.938292   \n",
       "1438      0.491015     -1.415274     -0.254437     -0.076828     -1.353939   \n",
       "\n",
       "      ILMN_1652711  ILMN_1789504  ILMN_2414786  ILMN_1779713  ILMN_1690610  \\\n",
       "1460      0.514016      0.046976     -0.004552     -1.073165      0.313805   \n",
       "1505     -1.778858     -1.722610      1.055083      1.858310      1.998474   \n",
       "89       -0.355543      0.482798     -0.102699     -0.009540      0.727451   \n",
       "1465      2.227236     -1.629131      1.702162      0.539020      0.145368   \n",
       "1438      1.140143     -0.178305     -0.542585     -1.007954      1.487266   \n",
       "\n",
       "      ...  ILMN_1791637  ILMN_2124064  ILMN_1794817  ILMN_1657111  \\\n",
       "1460  ...     -0.906229     -0.873408     -0.164436      0.463879   \n",
       "1505  ...     -1.588879     -1.368761     -0.918788     -0.117371   \n",
       "89    ...      1.496347      0.555242     -0.305503      0.345549   \n",
       "1465  ...      2.477117     -0.167315     -1.345556     -0.206253   \n",
       "1438  ...     -1.959393     -0.131891     -1.207582     -0.260006   \n",
       "\n",
       "      ILMN_2341382  ILMN_1798971  ILMN_2412807  ILMN_1770035  ILMN_1664738  \\\n",
       "1460     -0.745263     -0.641401     -0.172770      1.670500     -1.205005   \n",
       "1505     -1.181364     -1.387711     -0.199453     -0.233036     -0.790447   \n",
       "89       -0.602970     -0.005427      1.164518      2.191250      1.229426   \n",
       "1465     -1.644883     -0.893006     -0.126020      0.719372     -1.134624   \n",
       "1438      2.172499      1.097082      0.946250     -1.237410      1.363485   \n",
       "\n",
       "      TB_Status  \n",
       "1460  Latent TB  \n",
       "1505  Latent TB  \n",
       "89    Latent TB  \n",
       "1465  Latent TB  \n",
       "1438  Active TB  \n",
       "\n",
       "[5 rows x 23190 columns]"
      ]
     },
     "execution_count": 27,
     "metadata": {},
     "output_type": "execute_result"
    }
   ],
   "source": [
    "# Verifying the shape and preview of each dataset\n",
    "print(\"\\nATB_LTB Dataset shape:\", ATB_LTB.shape)\n",
    "print(\"ATB_LTB Dataset preview:\\n\")\n",
    "ATB_LTB.sample(5)"
   ]
  },
  {
   "cell_type": "code",
   "execution_count": 28,
   "metadata": {
    "colab": {
     "base_uri": "https://localhost:8080/"
    },
    "id": "HvC2KZfefGyc",
    "outputId": "34b73248-995f-4247-af01-6a414449070c"
   },
   "outputs": [
    {
     "name": "stdout",
     "output_type": "stream",
     "text": [
      "TB_Status\n",
      "Latent TB    180\n",
      "Active TB    128\n",
      "Name: count, dtype: int64\n"
     ]
    }
   ],
   "source": [
    "# Get the number of occurrences for each class in the 'TB_Status' column\n",
    "class_counts = ATB_LTB['TB_Status'].value_counts()\n",
    "\n",
    "# Display the class counts\n",
    "print(class_counts)"
   ]
  },
  {
   "cell_type": "code",
   "execution_count": 29,
   "metadata": {
    "colab": {
     "base_uri": "https://localhost:8080/"
    },
    "id": "Gai1lIce-esD",
    "outputId": "9ad1a142-da55-4af9-b926-e83dcfc40c75"
   },
   "outputs": [
    {
     "name": "stdout",
     "output_type": "stream",
     "text": [
      "CSV file saved to: ..\\..\\Datasets\\processed\\ATB_LTB.csv\n"
     ]
    }
   ],
   "source": [
    "# Save the DataFrame as a CSV file\n",
    "output_csv_path = r'..\\..\\Datasets\\processed\\ATB_LTB.csv'\n",
    "ATB_LTB.to_csv(output_csv_path, index=False)\n",
    "print(\"CSV file saved to:\", output_csv_path)"
   ]
  }
 ],
 "metadata": {
  "colab": {
   "provenance": []
  },
  "kernelspec": {
   "display_name": "Python (myenv)",
   "language": "python",
   "name": "myenv"
  },
  "language_info": {
   "codemirror_mode": {
    "name": "ipython",
    "version": 3
   },
   "file_extension": ".py",
   "mimetype": "text/x-python",
   "name": "python",
   "nbconvert_exporter": "python",
   "pygments_lexer": "ipython3",
   "version": "3.9.18"
  }
 },
 "nbformat": 4,
 "nbformat_minor": 4
}
